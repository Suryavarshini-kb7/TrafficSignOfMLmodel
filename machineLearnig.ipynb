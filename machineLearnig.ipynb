{
  "nbformat": 4,
  "nbformat_minor": 0,
  "metadata": {
    "colab": {
      "provenance": []
    },
    "kernelspec": {
      "name": "python3",
      "display_name": "Python 3"
    },
    "language_info": {
      "name": "python"
    }
  },
  "cells": [
    {
      "cell_type": "code",
      "execution_count": null,
      "metadata": {
        "colab": {
          "base_uri": "https://localhost:8080/"
        },
        "id": "4RULgtpD_zmP",
        "outputId": "2729b568-1fba-4213-d916-bbcd4d3568e8"
      },
      "outputs": [
        {
          "output_type": "stream",
          "name": "stdout",
          "text": [
            "Starting BFS from A to F\n",
            "Visited node: A\n",
            "Visited node: B\n",
            "Visited node: C\n",
            "Visited node: D\n",
            "Visited node: E\n",
            "Visited node: F\n",
            "Path from A to F: A -> C -> F\n",
            "Visited nodes in order: A, B, C, D, E, F\n"
          ]
        }
      ],
      "source": [
        "from collections import deque\n",
        "\n",
        "def bfs(graph, start, end):\n",
        "    queue = deque([start])\n",
        "    visited = set()\n",
        "    visited_order = []\n",
        "    parent = {start: None}\n",
        "    print(f\"Starting BFS from {start} to {end}\")\n",
        "\n",
        "    while queue:\n",
        "        node = queue.popleft()\n",
        "        print(f\"Visited node: {node}\")\n",
        "        visited_order.append(node)\n",
        "\n",
        "        if node == end:\n",
        "            path = []\n",
        "            while node is not None:\n",
        "                path.append(node)\n",
        "                node = parent[node]\n",
        "            return path[::-1], visited_order\n",
        "\n",
        "        visited.add(node)\n",
        "        for neighbor in graph[node]:\n",
        "            if neighbor not in visited and neighbor not in queue:\n",
        "                queue.append(neighbor)\n",
        "                parent[neighbor] = node\n",
        "    return [], visited_order\n",
        "\n",
        "if __name__ == \"__main__\":\n",
        "    graph = {\n",
        "        'A': ['B', 'C'],\n",
        "        'B': ['A', 'D', 'E'],\n",
        "        'C': ['A', 'F'],\n",
        "        'D': ['B'],\n",
        "        'E': ['B', 'F'],\n",
        "        'F': ['C', 'E']\n",
        "    }\n",
        "\n",
        "    start_node = 'A'\n",
        "    end_node = 'F'\n",
        "    path, visited_nodes = bfs(graph, start_node, end_node)\n",
        "\n",
        "    print(f\"Path from {start_node} to {end_node}: {' -> '.join(path)}\")\n",
        "    print(f\"Visited nodes in order: {', '.join(visited_nodes)}\")"
      ]
    },
    {
      "cell_type": "code",
      "source": [
        "def dfs(graph, start, end):\n",
        "    stack = [start]\n",
        "    visited = set()\n",
        "    visited_order = []\n",
        "    parent = {start: None}\n",
        "    print(f\"Starting DFS from {start} to {end}\")\n",
        "\n",
        "    while stack:\n",
        "        node = stack.pop()\n",
        "        if node not in visited:\n",
        "            print(f\"Visited node: {node}\")\n",
        "            visited_order.append(node)\n",
        "            visited.add(node)\n",
        "\n",
        "            if node == end:\n",
        "                path = []\n",
        "                while node is not None:\n",
        "                    path.append(node)\n",
        "                    node = parent[node]\n",
        "                return path[::-1], visited_order\n",
        "\n",
        "            for neighbor in reversed(graph[node]):\n",
        "                if neighbor not in visited:\n",
        "                    stack.append(neighbor)\n",
        "                    parent[neighbor] = node\n",
        "\n",
        "    return [], visited_order\n",
        "\n",
        "if __name__ == \"__main__\":\n",
        "    graph = {\n",
        "        'A': ['B', 'C'],\n",
        "        'B': ['A', 'D', 'E'],\n",
        "        'C': ['A', 'F'],\n",
        "        'D': ['B'],\n",
        "        'E': ['B', 'F'],\n",
        "        'F': ['C', 'E']\n",
        "    }\n",
        "\n",
        "    start_node = 'A'\n",
        "    end_node = 'F'\n",
        "    path, visited_nodes = dfs(graph, start_node, end_node)\n",
        "\n",
        "    print(f\"Path from {start_node} to {end_node}: {' -> '.join(path)}\")\n",
        "    print(f\"Visited nodes in order: {', '.join(visited_nodes)}\")\n"
      ],
      "metadata": {
        "colab": {
          "base_uri": "https://localhost:8080/"
        },
        "id": "NS_ST2xxDdc6",
        "outputId": "afb6c56f-b469-4115-b308-5c5bf14f4598"
      },
      "execution_count": null,
      "outputs": [
        {
          "output_type": "stream",
          "name": "stdout",
          "text": [
            "Starting DFS from A to F\n",
            "Visited node: A\n",
            "Visited node: B\n",
            "Visited node: D\n",
            "Visited node: E\n",
            "Visited node: F\n",
            "Path from A to F: A -> B -> E -> F\n",
            "Visited nodes in order: A, B, D, E, F\n"
          ]
        }
      ]
    },
    {
      "cell_type": "code",
      "source": [
        "def dls(graph, node, end, depth, visited_order, parent):\n",
        "    if depth == 0 and node == end:\n",
        "        visited_order.append(node)\n",
        "        return True\n",
        "    if depth > 0:\n",
        "        visited_order.append(node)\n",
        "        for neighbor in graph[node]:\n",
        "            if neighbor not in visited_order:\n",
        "                parent[neighbor] = node\n",
        "                if dls(graph, neighbor, end, depth - 1, visited_order, parent):\n",
        "                    return True\n",
        "    return False\n",
        "\n",
        "def iddfs(graph, start, end, max_depth):\n",
        "    for depth in range(max_depth):\n",
        "        visited_order = []\n",
        "        parent = {start: None}\n",
        "        print(f\"Depth: {depth}\")\n",
        "        if dls(graph, start, end, depth, visited_order, parent):\n",
        "            path = []\n",
        "            node = end\n",
        "            while node is not None:\n",
        "                path.append(node)\n",
        "                node = parent.get(node, None)\n",
        "            return path[::-1], visited_order\n",
        "    return [], []\n",
        "\n",
        "if __name__ == \"__main__\":\n",
        "    graph = {\n",
        "        'A': ['B', 'C'],\n",
        "        'B': ['A', 'D', 'E'],\n",
        "        'C': ['A', 'F'],\n",
        "        'D': ['B'],\n",
        "        'E': ['B', 'F'],\n",
        "        'F': ['C', 'E']\n",
        "    }\n",
        "\n",
        "    start_node = 'A'\n",
        "    end_node = 'F'\n",
        "    max_depth = 3\n",
        "    path, visited_nodes = iddfs(graph, start_node, end_node, max_depth)\n",
        "\n",
        "    print(f\"Path from {start_node} to {end_node}: {' -> '.join(path)}\")\n",
        "    print(f\"Visited nodes in order: {', '.join(visited_nodes)}\")\n"
      ],
      "metadata": {
        "id": "bYkRfllXJ9yy",
        "outputId": "2ef41115-cf1c-4ac1-d9dd-f0a09691df9c",
        "colab": {
          "base_uri": "https://localhost:8080/"
        }
      },
      "execution_count": null,
      "outputs": [
        {
          "output_type": "stream",
          "name": "stdout",
          "text": [
            "Depth: 0\n",
            "Depth: 1\n",
            "Depth: 2\n",
            "Path from A to F: A -> C -> F\n",
            "Visited nodes in order: A, B, C, F\n"
          ]
        }
      ]
    }
  ]
}